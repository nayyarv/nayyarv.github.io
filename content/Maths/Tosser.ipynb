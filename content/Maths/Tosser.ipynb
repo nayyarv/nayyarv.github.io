{
 "cells": [
  {
   "cell_type": "markdown",
   "metadata": {},
   "source": [
    "- Title: Tosser\n",
    "- Subtitle: Beating an Interview Question\n",
    "- Date: 2018-10-14 15:05\n",
    "- Category: Puzzle\n",
    "- Tags: puzzle, gym, interview\n",
    "- Author: Varun Nayyar\n",
    "\n",
    "\n"
   ]
  },
  {
   "cell_type": "markdown",
   "metadata": {},
   "source": [
    "While chatting with Joe, a bloke I had met at a machine learning meet, the conversation invariably turned to how we hated interviewing and how interview candidates always throw out buzzwords and jump headfirst into problems. We then asked each other our favourite interview questions and jumped in headfirst without thinking.\n",
    "In order to defend my behaviour, I argued that the question Joe had posed was far more subtle than what Joe had suggested and this is the result.\n",
    "\n",
    "\n",
    "## The Game\n",
    "\n",
    "The game was this: You can bet as much money as you want on the outcome of a coin toss. If it's heads, you win 3x what you bet (plus whatever you bet) while if it's tails, you lose whatever you've bet. A more concrete example, you bet 100 on the toss, if it's heads you win 300 so your total amount is now 400, while if it's tails, you're left with 0. This is obviously a positive game, betting $x$ has an expected return of $x$. (A normal toss game has an expected return of 0 in comparison)\n",
    "\n",
    "Note I define return as winnings. So starting with 100 and leaving with 1000 is a return of 900. I define value as sum of winnings + initial investment. So starting with 100 and leaving with 1000 is a value of 1000.\n",
    "\n",
    "The subtlety of this game is introduced in the fact that you only get a finite number of turns with this game. "
   ]
  },
  {
   "cell_type": "markdown",
   "metadata": {},
   "source": [
    "## The Subtlety\n",
    "\n",
    "If this game had only 1 turn, you'd bet as much money as possible on the game. After all, who'd give you a 50% chance at a 300% return, or an expected return of 100% (albeit slightly risky). If this game had infinite number of turns, I would play with the minimum bet each time as my expected return is the minimum bet and the chance of going to 0 is very very rare. Note, this is also why when playing in a casino, you reduce the number of bets you make because each bet has a negative expected return. \n",
    "\n",
    "With a finite number of turns, the game changes. If I had 2 turns, betting all my money each time still seems sound since 25% of the time I'd end up 16x or 1500% return with a 25% probability - still appetizing. But nothing 75% of the time. For a game with 10 turns, I'd make a 1 million x return, but this is a 1 in 1024 chance of happening, everything else is 0. Note that my expected return is $(2^n-1)x$ using this strategy, but my median return is $-x$. As $n \\rightarrow \\infty$ my expected return also grows, but my chance of winning keeps decreasing. Now I don't play the lottery, and if a billionaire decides to match every dollar in the lottery with 3 of his own, I still wouldn't play the game (though I would pool money and buy as many lottery tickets as possible). So obviously, this strategy of betting everything on each toss is not something I'd want to do\n",
    "\n"
   ]
  },
  {
   "cell_type": "markdown",
   "metadata": {},
   "source": [
    "## Constant Betting Strategy\n",
    "\n",
    "The first time I posed this question to another, the first response I got was what was I optimizing for? It's clear that optimizing for expected value results in a bet everything each toss, but this is not a good strategy as the number of tosses increase as the chance of any payout diminishes. The next response was to bet half my stash each time so I'd never be out of the game, so I thought I'd look at various statistics for a constant $\\lambda$\n",
    "\n",
    "Let $\\lambda \\in [0,1]$ be the percentage of our current stash $x$ to bet on the toss. Value $V$ after one toss\n",
    "\n",
    "\\begin{align}\n",
    "V|Heads =& (1-\\lambda) x + 4 \\lambda x\\\\\n",
    " =& (1 +3 \\lambda)x \\\\\n",
    "V|Tails =& (1-\\lambda) x \n",
    "\\end{align}\n",
    "\n",
    "Hence $E(V) = (1+\\lambda)x$ \n",
    "\n",
    "Looking at 2 tosses\n",
    "\n",
    "\\begin{align}\n",
    "V|HH =& (1 -\\lambda)(V|H) + 4\\lambda (V|H) \\\\\n",
    " =& (1 +3 \\lambda)(V|H) \\\\\n",
    " =& (1 +3 \\lambda)^2x \\\\\n",
    "V|HT =& (1 +3 \\lambda)(V|T)\\\\\n",
    "=& (1 +3 \\lambda)(1-\\lambda) x\n",
    "\\end{align}\n",
    "\n",
    "and \n",
    "\n",
    "\\begin{align}\n",
    "V|TT =& (1 -\\lambda)(V|T) \\\\\n",
    " =& (1 - \\lambda)^2x \\\\\n",
    "V|TH =& (1 +3 \\lambda)(V|T)\\\\\n",
    "=& (1 +3 \\lambda)(1-\\lambda) x\n",
    "\\end{align}\n",
    "\n",
    "This should give us some intuition on the distribution. For a particular fixed strategy, i.e. constant $\\lambda$, we now have a distribution given number of heads, $h$ and number of tails $t$\n",
    "\n",
    "\\begin{align}\n",
    "V|H=h, T=t &= (1+3\\lambda)^h (1-\\lambda)^t x\n",
    "\\end{align}\n",
    "\n",
    "For $\\lambda =1 $  we can see that even one tail results in value = 0, while $\\lambda=0$ results in a value of x. This is clearly a binomial expansion, and this makes this quite easy to analyse, in that the more heads has strictly more profit for a fixed $h+t$.\n",
    "Let's have a look at mean, median and 25%, 75% results in this space."
   ]
  },
  {
   "cell_type": "code",
   "execution_count": 1,
   "metadata": {},
   "outputs": [],
   "source": [
    "import numpy as np \n",
    "def bin_table(lam, n):\n",
    "    \"\"\"\n",
    "    Returns array of 2 x (n+1) representing earnings x count\n",
    "    \"\"\"\n",
    "    from scipy.special import comb  #nCr\n",
    "    \n",
    "    hv = 1+3*lam\n",
    "    tv = 1 - lam\n",
    "    table = np.zeros((2, n+1))\n",
    "    for ntails in range(n+1):\n",
    "        nheads = n - ntails\n",
    "        table[0, nheads] = hv**nheads * tv ** ntails\n",
    "        table[1, nheads]=  int(comb(n, nheads))\n",
    "    return table\n",
    "        "
   ]
  },
  {
   "cell_type": "markdown",
   "metadata": {},
   "source": [
    "In the above function we do not enforce a min bet and allow the dollar to be subdivided as much as possible. "
   ]
  },
  {
   "cell_type": "code",
   "execution_count": 2,
   "metadata": {},
   "outputs": [
    {
     "data": {
      "text/plain": [
       "array([[   3,    1],\n",
       "       [  15,    5],\n",
       "       [  78,   10],\n",
       "       [ 390,   10],\n",
       "       [1953,    5],\n",
       "       [9765,    1]])"
      ]
     },
     "execution_count": 2,
     "metadata": {},
     "output_type": "execute_result"
    }
   ],
   "source": [
    "dat = bin_table(0.5, 5)\n",
    "dat[0] *= 100\n",
    "dat.T.astype(int)"
   ]
  },
  {
   "cell_type": "markdown",
   "metadata": {},
   "source": [
    "Now we need to generate weighted statistics of the above, this is trivial for the mean, but for percentile, we'll have to write our own"
   ]
  },
  {
   "cell_type": "code",
   "execution_count": 3,
   "metadata": {},
   "outputs": [],
   "source": [
    "def weightedPerc(x, weights, percentiles):\n",
    "    percWeights = weights.cumsum()/weights.sum() * 100\n",
    "    b1 = np.digitize(percentiles, percWeights)\n",
    "    b2 = np.digitize(percentiles, percWeights, right=True)\n",
    "    # now the right exclusive doesn't work for percentiles=100 as\n",
    "    # percweights is always going to have 100 as it's last value\n",
    "    # we fix this by ensuring the when b1 = len(percentiles), so does b2.\n",
    "    if 100 in percentiles:\n",
    "        b1[b1==len(percWeights)] = b2[b1==len(percWeights)]\n",
    "    \n",
    "    return (x[b1] + x[b2])/2\n",
    "    "
   ]
  },
  {
   "cell_type": "code",
   "execution_count": 4,
   "metadata": {},
   "outputs": [
    {
     "data": {
      "text/plain": [
       "array([   3,   78,  234,  390, 9765])"
      ]
     },
     "execution_count": 4,
     "metadata": {},
     "output_type": "execute_result"
    }
   ],
   "source": [
    "weightedPerc(dat[0], dat[1], [0, 25, 50, 75, 100]).astype(int)"
   ]
  },
  {
   "cell_type": "code",
   "execution_count": 5,
   "metadata": {},
   "outputs": [
    {
     "data": {
      "text/plain": [
       "759.375"
      ]
     },
     "execution_count": 5,
     "metadata": {},
     "output_type": "execute_result"
    }
   ],
   "source": [
    "np.average(dat[0], weights=dat[1])"
   ]
  },
  {
   "cell_type": "code",
   "execution_count": 6,
   "metadata": {},
   "outputs": [
    {
     "data": {
      "text/plain": [
       "array([[    100,     100,     100,     100,     100],\n",
       "       [    232,     131,     197,     295,     998],\n",
       "       [    497,     131,     282,     605,    5953],\n",
       "       [    998,     105,     316,     948,   25600],\n",
       "       [   1894,      67,     282,    1185,   87864],\n",
       "       [   3428,      32,     197,    1183,  255711],\n",
       "       [   5953,      11,     100,     900,  656100],\n",
       "       [   9977,       2,      30,     451, 1524157],\n",
       "       [  16205,       0,       2,      90, 3267167],\n",
       "       [  25600,       0,       0,       0, 6553600]])"
      ]
     },
     "execution_count": 6,
     "metadata": {},
     "output_type": "execute_result"
    }
   ],
   "source": [
    "def analyse(Ngames = 8, Nlams=10, percentiles = (25, 50, 75, 100)):\n",
    "    lams = np.linspace(0, 1, Nlams)\n",
    "    summ = np.zeros((Nlams, 1 + len(percentiles))) # mean, 25%, median, 75%, max\n",
    "    for i in range(Nlams):\n",
    "        dat = bin_table(lams[i], Ngames)\n",
    "        summ[i][0] = np.average(dat[0], weights=dat[1])\n",
    "        summ[i][1:] = weightedPerc(dat[0], dat[1], percentiles)\n",
    "\n",
    "    return lams, summ\n",
    "\n",
    "(analyse()[1]*100).astype(int)\n",
    "# max, mean, 25%, median, 75%, 100%/max"
   ]
  },
  {
   "cell_type": "code",
   "execution_count": 7,
   "metadata": {},
   "outputs": [
    {
     "data": {
      "text/plain": [
       "<matplotlib.legend.Legend at 0x110367a90>"
      ]
     },
     "execution_count": 7,
     "metadata": {},
     "output_type": "execute_result"
    },
    {
     "data": {
      "image/png": "[encoded data removed]",
      "text/plain": [
       "<Figure size 720x504 with 1 Axes>"
      ]
     },
     "metadata": {},
     "output_type": "display_data"
    }
   ],
   "source": [
    "# just plot percentiles\n",
    "NUM_TOSS = 8\n",
    "\n",
    "from matplotlib import pyplot as plt\n",
    "plt.style.use('ggplot')\n",
    "%matplotlib inline\n",
    "percentiles = [25, 50, 75]\n",
    "\n",
    "lams, datum = analyse(NUM_TOSS, Nlams=100, percentiles=percentiles)\n",
    "plt.figure(figsize=(10,7))\n",
    "for column in reversed(range(1, len(datum[0]))):\n",
    "    plt.plot(lams, datum[:, column], label=str(percentiles[column-1]))\n",
    "plt.title(\"Percentile Value vs $\\lambda$; N = {}\".format(NUM_TOSS))\n",
    "plt.ylabel(\"Value multiplied\")\n",
    "plt.xlabel(\"$\\lambda$\")\n",
    "plt.legend()\n",
    "    \n"
   ]
  },
  {
   "cell_type": "code",
   "execution_count": 10,
   "metadata": {},
   "outputs": [
    {
     "data": {
      "text/plain": [
       "Text(0.5,0,'$\\\\lambda$')"
      ]
     },
     "execution_count": 10,
     "metadata": {},
     "output_type": "execute_result"
    },
    {
     "data": {
      "image/png": "[encoded data removed]",
      "text/plain": [
       "<Figure size 720x504 with 1 Axes>"
      ]
     },
     "metadata": {},
     "output_type": "display_data"
    }
   ],
   "source": [
    "# means on a separate plot since these are much greater and the 0 values don't play nice with logs\n",
    "plt.figure(figsize=(10,7))\n",
    "plt.plot(lams, datum[:,0])\n",
    "plt.title(\"Mean value vs $\\lambda$; N = {}\".format(NUM_TOSS))\n",
    "plt.ylabel(\"Value multiplied\")\n",
    "plt.xlabel(\"$\\lambda$\")"
   ]
  },
  {
   "cell_type": "code",
   "execution_count": 91,
   "metadata": {},
   "outputs": [
    {
     "name": "stdout",
     "output_type": "stream",
     "text": [
      "peaks; N = 8\n",
      "25%, lambda=0.17: mean%=3.55 25%=1.36 50%=2.48 75%=4.54\n",
      "50%, lambda=0.33: mean%=9.99 25%=1.05 50%=3.16 75%=9.48\n",
      "75%, lambda=0.49: mean%=24.95 25%=0.50 50%=2.48 75%=12.20\n"
     ]
    }
   ],
   "source": [
    "print(\"peaks; N = {}\".format(NUM_TOSS))\n",
    "percentiles = [\"mean\", 25, 50, 75]\n",
    "for cols in range(1, 4):\n",
    "    ind = np.argmax(datum[:,cols])\n",
    "    print(f\"{percentiles[cols]}%, lambda={lams[ind]:.2f}:\", end=\"\")\n",
    "    for col_p in range(4):\n",
    "        print(f\" {percentiles[col_p]}%={datum[:,col_p][ind]:.2f}\", end = \"\")\n",
    "    print()\n",
    "# meanind = np.argmax(datum[:,0])\n",
    "# print(f\"mean, lambda={lams[meanind]:.2f}:\", end=\"\")\n",
    "# for col_p in range(1,4):\n",
    "#     print(f\" {percentiles[col_p-1]}%={datum[:,col_p][ind]:.2f}\", end = \"\")\n",
    "\n"
   ]
  },
  {
   "cell_type": "markdown",
   "metadata": {},
   "source": [
    "### Notes\n",
    "\n",
    "A percentile level is not directly comparable in this setting and the percentile graph is best looked at as your range of return for a given $\\lambda$. Optimizing for 75% results in your 25% case getting worse, while optimizing for your 25% case reduces your possible returns. The higher the percentile you'd like to optimize for, the higher lambda and vice versa and can be seen as a measure of risk taking. \n",
    "\n",
    "## Varied $\\lambda$\n",
    "So we can see that a fixed percentage playing mechanism barely taps into the possible value of the game at various percentile levels. Playing 33% of our value each time has a median value of 3.16 which feels surprisingly little given the high payout of the game. \n",
    "\n",
    "As brought up in the beginning, when I don't have many games left, I'd like to bet more aggressively, since my chances of missing out playing the game is much less and the chance of getting the 4x or 16x multiplier is high enough to be worth the risk. However, if I've already got a large amount earned, I might be less aggressive towards the end as I've already gained a lot of money. However, I'm not sure what the best way to code a strategy like this. Maybe a gratuitous amount of computing power can help work out the answer? See [part 2](/blog/reinforcement-tosser)."
   ]
  }
 ],
 "metadata": {
  "kernelspec": {
   "display_name": "Python 3",
   "language": "python",
   "name": "python3"
  },
  "language_info": {
   "codemirror_mode": {
    "name": "ipython",
    "version": 3
   },
   "file_extension": ".py",
   "mimetype": "text/x-python",
   "name": "python",
   "nbconvert_exporter": "python",
   "pygments_lexer": "ipython3",
   "version": "3.7.2"
  }
 },
 "nbformat": 4,
 "nbformat_minor": 2
}
